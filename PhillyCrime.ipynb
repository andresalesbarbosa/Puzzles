{
  "nbformat": 4,
  "nbformat_minor": 0,
  "metadata": {
    "colab": {
      "name": "PhillyCrime.ipynb",
      "version": "0.3.2",
      "provenance": [],
      "include_colab_link": true
    },
    "kernelspec": {
      "name": "python3",
      "display_name": "Python 3"
    }
  },
  "cells": [
    {
      "cell_type": "markdown",
      "metadata": {
        "id": "view-in-github",
        "colab_type": "text"
      },
      "source": [
        "<a href=\"https://colab.research.google.com/github/andresalesbarbosa/Puzzles/blob/master/PhillyCrime.ipynb\" target=\"_parent\"><img src=\"https://colab.research.google.com/assets/colab-badge.svg\" alt=\"Open In Colab\"/></a>"
      ]
    },
    {
      "metadata": {
        "id": "uXB2thKZL6bL",
        "colab_type": "text"
      },
      "cell_type": "markdown",
      "source": [
        "# Machine Learning - Regression\n",
        "\n",
        "Author: _André Barbosa_\n",
        "\n",
        "Last Update_ _February 2019_\n",
        "\n",
        "This notebook are modified from ml-regression course from University of Washington in Coursera. \n",
        "\n",
        "They were modified to use pandas and scikit-learn"
      ]
    },
    {
      "metadata": {
        "id": "ySVDhYxlL6bv",
        "colab_type": "code",
        "colab": {}
      },
      "cell_type": "code",
      "source": [
        "import numpy as np\n",
        "import pandas as pd\n",
        "from sklearn import linear_model"
      ],
      "execution_count": 0,
      "outputs": []
    },
    {
      "metadata": {
        "id": "U25uIcGHOKXY",
        "colab_type": "code",
        "colab": {
          "base_uri": "https://localhost:8080/",
          "height": 129
        },
        "outputId": "01b7eca2-a4f9-465e-f469-e24166df8049"
      },
      "cell_type": "code",
      "source": [
        "from google.colab import drive\n",
        "drive.mount('/content/gdrive')"
      ],
      "execution_count": 4,
      "outputs": [
        {
          "output_type": "stream",
          "text": [
            "Go to this URL in a browser: https://accounts.google.com/o/oauth2/auth?client_id=947318989803-6bn6qk8qdgf4n4g3pfee6491hc0brc4i.apps.googleusercontent.com&redirect_uri=urn%3Aietf%3Awg%3Aoauth%3A2.0%3Aoob&scope=email%20https%3A%2F%2Fwww.googleapis.com%2Fauth%2Fdocs.test%20https%3A%2F%2Fwww.googleapis.com%2Fauth%2Fdrive%20https%3A%2F%2Fwww.googleapis.com%2Fauth%2Fdrive.photos.readonly%20https%3A%2F%2Fwww.googleapis.com%2Fauth%2Fpeopleapi.readonly&response_type=code\n",
            "\n",
            "Enter your authorization code:\n",
            "··········\n",
            "Mounted at /content/gdrive\n"
          ],
          "name": "stdout"
        }
      ]
    },
    {
      "metadata": {
        "id": "Mc0ohcKfL6c4",
        "colab_type": "text"
      },
      "cell_type": "markdown",
      "source": [
        "#Load some house value vs. crime rate data\n",
        "\n",
        "Dataset is from Philadelphia, PA and includes average house sales price in a number of neighborhoods.  The attributes of each neighborhood we have include the crime rate ('CrimeRate'), miles from Center City ('MilesPhila'), town name ('Name'), and county name ('County')."
      ]
    },
    {
      "metadata": {
        "id": "wA5Ik3GHL6dI",
        "colab_type": "code",
        "colab": {}
      },
      "cell_type": "code",
      "source": [
        "sales = pd.read_csv('/content/gdrive/My Drive/Colab Notebooks/Philadelphia_Crime_Rate_noNA.csv')"
      ],
      "execution_count": 0,
      "outputs": []
    },
    {
      "metadata": {
        "id": "NfRk2CycL6eE",
        "colab_type": "code",
        "colab": {
          "base_uri": "https://localhost:8080/",
          "height": 206
        },
        "outputId": "72cc98c0-363d-48c3-933b-4073e10d6d72"
      },
      "cell_type": "code",
      "source": [
        "sales.head()"
      ],
      "execution_count": 7,
      "outputs": [
        {
          "output_type": "execute_result",
          "data": {
            "text/html": [
              "<div>\n",
              "<style scoped>\n",
              "    .dataframe tbody tr th:only-of-type {\n",
              "        vertical-align: middle;\n",
              "    }\n",
              "\n",
              "    .dataframe tbody tr th {\n",
              "        vertical-align: top;\n",
              "    }\n",
              "\n",
              "    .dataframe thead th {\n",
              "        text-align: right;\n",
              "    }\n",
              "</style>\n",
              "<table border=\"1\" class=\"dataframe\">\n",
              "  <thead>\n",
              "    <tr style=\"text-align: right;\">\n",
              "      <th></th>\n",
              "      <th>HousePrice</th>\n",
              "      <th>HsPrc ($10,000)</th>\n",
              "      <th>CrimeRate</th>\n",
              "      <th>MilesPhila</th>\n",
              "      <th>PopChg</th>\n",
              "      <th>Name</th>\n",
              "      <th>County</th>\n",
              "    </tr>\n",
              "  </thead>\n",
              "  <tbody>\n",
              "    <tr>\n",
              "      <th>0</th>\n",
              "      <td>140463</td>\n",
              "      <td>14.0463</td>\n",
              "      <td>29.7</td>\n",
              "      <td>10.0</td>\n",
              "      <td>-1.0</td>\n",
              "      <td>Abington</td>\n",
              "      <td>Montgome</td>\n",
              "    </tr>\n",
              "    <tr>\n",
              "      <th>1</th>\n",
              "      <td>113033</td>\n",
              "      <td>11.3033</td>\n",
              "      <td>24.1</td>\n",
              "      <td>18.0</td>\n",
              "      <td>4.0</td>\n",
              "      <td>Ambler</td>\n",
              "      <td>Montgome</td>\n",
              "    </tr>\n",
              "    <tr>\n",
              "      <th>2</th>\n",
              "      <td>124186</td>\n",
              "      <td>12.4186</td>\n",
              "      <td>19.5</td>\n",
              "      <td>25.0</td>\n",
              "      <td>8.0</td>\n",
              "      <td>Aston</td>\n",
              "      <td>Delaware</td>\n",
              "    </tr>\n",
              "    <tr>\n",
              "      <th>3</th>\n",
              "      <td>110490</td>\n",
              "      <td>11.0490</td>\n",
              "      <td>49.4</td>\n",
              "      <td>25.0</td>\n",
              "      <td>2.7</td>\n",
              "      <td>Bensalem</td>\n",
              "      <td>Bucks</td>\n",
              "    </tr>\n",
              "    <tr>\n",
              "      <th>4</th>\n",
              "      <td>79124</td>\n",
              "      <td>7.9124</td>\n",
              "      <td>54.1</td>\n",
              "      <td>19.0</td>\n",
              "      <td>3.9</td>\n",
              "      <td>Bristol B.</td>\n",
              "      <td>Bucks</td>\n",
              "    </tr>\n",
              "  </tbody>\n",
              "</table>\n",
              "</div>"
            ],
            "text/plain": [
              "   HousePrice  HsPrc ($10,000)  CrimeRate  MilesPhila  PopChg        Name  \\\n",
              "0      140463          14.0463       29.7        10.0    -1.0    Abington   \n",
              "1      113033          11.3033       24.1        18.0     4.0      Ambler   \n",
              "2      124186          12.4186       19.5        25.0     8.0       Aston   \n",
              "3      110490          11.0490       49.4        25.0     2.7    Bensalem   \n",
              "4       79124           7.9124       54.1        19.0     3.9  Bristol B.   \n",
              "\n",
              "     County  \n",
              "0  Montgome  \n",
              "1  Montgome  \n",
              "2  Delaware  \n",
              "3     Bucks  \n",
              "4     Bucks  "
            ]
          },
          "metadata": {
            "tags": []
          },
          "execution_count": 7
        }
      ]
    },
    {
      "metadata": {
        "id": "p3aj7w5-L6e9",
        "colab_type": "text"
      },
      "cell_type": "markdown",
      "source": [
        "#Exploring the data "
      ]
    },
    {
      "metadata": {
        "id": "CiK9FlfmL6fJ",
        "colab_type": "text"
      },
      "cell_type": "markdown",
      "source": [
        "The house price in a town is correlated with the crime rate of that town. Low crime towns tend to be associated with higher house prices and vice versa."
      ]
    },
    {
      "metadata": {
        "id": "Bbrrn21iL6fY",
        "colab_type": "code",
        "colab": {
          "base_uri": "https://localhost:8080/",
          "height": 418
        },
        "outputId": "a79512e3-c694-4abe-8179-c62bf781f7fa"
      },
      "cell_type": "code",
      "source": [
        "sales.plot('CrimeRate','HousePrice',kind='scatter')"
      ],
      "execution_count": 11,
      "outputs": [
        {
          "output_type": "stream",
          "text": [
            "'c' argument looks like a single numeric RGB or RGBA sequence, which should be avoided as value-mapping will have precedence in case its length matches with 'x' & 'y'.  Please use a 2-D array with a single row if you really want to specify the same RGB or RGBA value for all points.\n"
          ],
          "name": "stderr"
        },
        {
          "output_type": "execute_result",
          "data": {
            "text/plain": [
              "<matplotlib.axes._subplots.AxesSubplot at 0x7f7e0b339240>"
            ]
          },
          "metadata": {
            "tags": []
          },
          "execution_count": 11
        },
        {
          "output_type": "display_data",
          "data": {
            "image/png": "[encoded data removed]",
            "text/plain": [
              "<Figure size 576x396 with 1 Axes>"
            ]
          },
          "metadata": {
            "tags": []
          }
        }
      ]
    },
    {
      "metadata": {
        "id": "iJSYt1hGL6gH",
        "colab_type": "text"
      },
      "cell_type": "markdown",
      "source": [
        "#Fit the regression model using crime as the feature"
      ]
    },
    {
      "metadata": {
        "id": "fqGNfYtAL6gT",
        "colab_type": "code",
        "colab": {}
      },
      "cell_type": "code",
      "source": [
        "linearReg = linear_model.LinearRegression()\n",
        "X = sales['CrimeRate'].values.reshape(-1,1)\n",
        "# add intercept\n",
        "X = np.hstack([np.ones(X.shape),X])\n",
        "y = sales['HousePrice'].values\n",
        "crime_model = linearReg.fit(X,y)"
      ],
      "execution_count": 0,
      "outputs": []
    },
    {
      "metadata": {
        "id": "7WNdEdBaSDaq",
        "colab_type": "code",
        "colab": {
          "base_uri": "https://localhost:8080/",
          "height": 54
        },
        "outputId": "3f64914b-8ec2-47d4-e384-90f028e8f286"
      },
      "cell_type": "code",
      "source": [
        "\n",
        "print('X_0:',crime_model.intercept_)\n",
        "print('X_1:',crime_model.coef_[1])\n"
      ],
      "execution_count": 37,
      "outputs": [
        {
          "output_type": "stream",
          "text": [
            "X_0: 176629.40810695424\n",
            "X_1: -576.908127682389\n"
          ],
          "name": "stdout"
        }
      ]
    },
    {
      "metadata": {
        "id": "GDLbOrJ3L6g7",
        "colab_type": "text"
      },
      "cell_type": "markdown",
      "source": [
        "#Let's see what our fit looks like"
      ]
    },
    {
      "metadata": {
        "id": "bh0bhjO5L6hH",
        "colab_type": "text"
      },
      "cell_type": "markdown",
      "source": [
        "Matplotlib is a Python plotting library that is also useful for plotting.  You can install it with:\n",
        "\n",
        "'pip install matplotlib'"
      ]
    },
    {
      "metadata": {
        "id": "F44BVxcxL6hd",
        "colab_type": "code",
        "colab": {}
      },
      "cell_type": "code",
      "source": [
        "import matplotlib.pyplot as plt\n",
        "%matplotlib inline"
      ],
      "execution_count": 0,
      "outputs": []
    },
    {
      "metadata": {
        "scrolled": true,
        "id": "V8MDWDBaL6iU",
        "colab_type": "code",
        "colab": {
          "base_uri": "https://localhost:8080/",
          "height": 306
        },
        "outputId": "f21b83b0-311a-4b04-daa5-6e092aac84a2"
      },
      "cell_type": "code",
      "source": [
        "plt.plot(sales['CrimeRate'],sales['HousePrice'],'.',\n",
        "        sales['CrimeRate'],crime_model.predict(X),'-')"
      ],
      "execution_count": 30,
      "outputs": [
        {
          "output_type": "execute_result",
          "data": {
            "text/plain": [
              "[<matplotlib.lines.Line2D at 0x7f7e07f98080>,\n",
              " <matplotlib.lines.Line2D at 0x7f7e07f98438>]"
            ]
          },
          "metadata": {
            "tags": []
          },
          "execution_count": 30
        },
        {
          "output_type": "display_data",
          "data": {
            "image/png": "[encoded data removed]",
            "text/plain": [
              "<Figure size 432x288 with 1 Axes>"
            ]
          },
          "metadata": {
            "tags": []
          }
        }
      ]
    },
    {
      "metadata": {
        "id": "U2TslbLJL6i-",
        "colab_type": "text"
      },
      "cell_type": "markdown",
      "source": [
        "Above: blue dots are original data, green line is the fit from the simple regression."
      ]
    },
    {
      "metadata": {
        "id": "zbqaA3pdL6jH",
        "colab_type": "text"
      },
      "cell_type": "markdown",
      "source": [
        "# Remove Center City and redo the analysis"
      ]
    },
    {
      "metadata": {
        "id": "YKk2B9hgL6jO",
        "colab_type": "text"
      },
      "cell_type": "markdown",
      "source": [
        "Center City is the one observation with an extremely high crime rate, yet house prices are not very low.  This point does not follow the trend of the rest of the data very well.  A question is how much including Center City is influencing our fit on the other datapoints.  Let's remove this datapoint and see what happens."
      ]
    },
    {
      "metadata": {
        "id": "sasKi_4dL6jY",
        "colab_type": "code",
        "colab": {}
      },
      "cell_type": "code",
      "source": [
        "sales_noCC = sales[sales['MilesPhila'] != 0.0] "
      ],
      "execution_count": 0,
      "outputs": []
    },
    {
      "metadata": {
        "id": "QSbwtj_qL6jy",
        "colab_type": "code",
        "colab": {
          "base_uri": "https://localhost:8080/",
          "height": 283
        },
        "outputId": "0b2e2c22-9083-463f-e0a7-654647fde7dd"
      },
      "cell_type": "code",
      "source": [
        "plt.plot(sales_noCC['CrimeRate'],sales_noCC['HousePrice'],'.')"
      ],
      "execution_count": 40,
      "outputs": [
        {
          "output_type": "execute_result",
          "data": {
            "text/plain": [
              "[<matplotlib.lines.Line2D at 0x7f7e07f787f0>]"
            ]
          },
          "metadata": {
            "tags": []
          },
          "execution_count": 40
        },
        {
          "output_type": "display_data",
          "data": {
            "image/png": "[encoded data removed]",
            "text/plain": [
              "<Figure size 432x288 with 1 Axes>"
            ]
          },
          "metadata": {
            "tags": []
          }
        }
      ]
    },
    {
      "metadata": {
        "id": "HesxMmbOL6kg",
        "colab_type": "text"
      },
      "cell_type": "markdown",
      "source": [
        "### Refit our simple regression model on this modified dataset:"
      ]
    },
    {
      "metadata": {
        "id": "JcF6YL_iL6kw",
        "colab_type": "code",
        "colab": {}
      },
      "cell_type": "code",
      "source": [
        "X = sales_noCC['CrimeRate'].values.reshape(-1,1)\n",
        "# add intercept\n",
        "X = np.hstack([np.ones(X.shape),X])\n",
        "y = sales_noCC['HousePrice'].values\n",
        "crime_model_noCC = linearReg.fit(X,y)"
      ],
      "execution_count": 0,
      "outputs": []
    },
    {
      "metadata": {
        "id": "pdIrCAH_L6lJ",
        "colab_type": "text"
      },
      "cell_type": "markdown",
      "source": [
        "### Look at the fit:"
      ]
    },
    {
      "metadata": {
        "id": "CGWRXheML6lT",
        "colab_type": "code",
        "colab": {
          "base_uri": "https://localhost:8080/",
          "height": 302
        },
        "outputId": "b0c8274a-0b8b-4949-8f99-8b95511dcd53"
      },
      "cell_type": "code",
      "source": [
        "plt.plot(sales_noCC['CrimeRate'],sales_noCC['HousePrice'],'.',\n",
        "        sales_noCC['CrimeRate'],crime_model_noCC.predict(X),'-')"
      ],
      "execution_count": 43,
      "outputs": [
        {
          "output_type": "execute_result",
          "data": {
            "text/plain": [
              "[<matplotlib.lines.Line2D at 0x7f7e07edc4a8>,\n",
              " <matplotlib.lines.Line2D at 0x7f7e07edc898>]"
            ]
          },
          "metadata": {
            "tags": []
          },
          "execution_count": 43
        },
        {
          "output_type": "display_data",
          "data": {
            "image/png": "[encoded data removed]",
            "text/plain": [
              "<Figure size 432x288 with 1 Axes>"
            ]
          },
          "metadata": {
            "tags": []
          }
        }
      ]
    },
    {
      "metadata": {
        "id": "miP-4EUdL6l4",
        "colab_type": "text"
      },
      "cell_type": "markdown",
      "source": [
        "# Compare coefficients for full-data fit versus no-Center-City fit"
      ]
    },
    {
      "metadata": {
        "id": "EbiZm0EhL6mT",
        "colab_type": "text"
      },
      "cell_type": "markdown",
      "source": [
        "Visually, the fit seems different, but let's quantify this by examining the estimated coefficients of our original fit and that of the modified dataset with Center City removed."
      ]
    },
    {
      "metadata": {
        "id": "P2Z-qEpvL6mp",
        "colab_type": "code",
        "colab": {
          "base_uri": "https://localhost:8080/",
          "height": 54
        },
        "outputId": "9bf2a108-ebc1-4d81-f492-0bc6a7d6385d"
      },
      "cell_type": "code",
      "source": [
        "print('X_0',crime_model.intercept_)\n",
        "print('X_1',crime_model.coef_[1])"
      ],
      "execution_count": 47,
      "outputs": [
        {
          "output_type": "stream",
          "text": [
            "X_0 176629.40810695424\n",
            "X_1 -576.908127682389\n"
          ],
          "name": "stdout"
        }
      ]
    },
    {
      "metadata": {
        "id": "vvDfVZGXL6nT",
        "colab_type": "code",
        "colab": {
          "base_uri": "https://localhost:8080/",
          "height": 54
        },
        "outputId": "c0e018ea-7cce-4137-8a30-2de20f0d4431"
      },
      "cell_type": "code",
      "source": [
        "print('X_0',crime_model_noCC.intercept_)\n",
        "print('X_1',crime_model_noCC.coef_[1])"
      ],
      "execution_count": 48,
      "outputs": [
        {
          "output_type": "stream",
          "text": [
            "X_0 225233.5518390038\n",
            "X_1 -2288.6894299483647\n"
          ],
          "name": "stdout"
        }
      ]
    },
    {
      "metadata": {
        "id": "9srJC93qL6oG",
        "colab_type": "text"
      },
      "cell_type": "markdown",
      "source": [
        "Above: We see that for the \"no Center City\" version, per unit increase in crime, the predicted decrease in house prices is 2,287.  In contrast, for the original dataset, the drop is only 576 per unit increase in crime.  This is significantly different!"
      ]
    },
    {
      "metadata": {
        "id": "jkfOmfaYL6oN",
        "colab_type": "text"
      },
      "cell_type": "markdown",
      "source": [
        "###High leverage points: \n",
        "Center City is said to be a \"high leverage\" point because it is at an extreme x value where there are not other observations.  As a result, recalling the closed-form solution for simple regression, this point has the *potential* to dramatically change the least squares line since the center of x mass is heavily influenced by this one point and the least squares line will try to fit close to that outlying (in x) point.  If a high leverage point follows the trend of the other data, this might not have much effect.  On the other hand, if this point somehow differs, it can be strongly influential in the resulting fit.\n",
        "\n",
        "###Influential observations:  \n",
        "An influential observation is one where the removal of the point significantly changes the fit.  As discussed above, high leverage points are good candidates for being influential observations, but need not be.  Other observations that are *not* leverage points can also be influential observations (e.g., strongly outlying in y even if x is a typical value)."
      ]
    },
    {
      "metadata": {
        "id": "yIz6picxL6oW",
        "colab_type": "text"
      },
      "cell_type": "markdown",
      "source": [
        "# Remove high-value outlier neighborhoods and redo analysis"
      ]
    },
    {
      "metadata": {
        "id": "WrDxrM8KL6om",
        "colab_type": "text"
      },
      "cell_type": "markdown",
      "source": [
        "Based on the discussion above, a question is whether the outlying high-value towns are strongly influencing the fit.  Let's remove them and see what happens."
      ]
    },
    {
      "metadata": {
        "id": "xFBvFtYTL6o2",
        "colab_type": "code",
        "colab": {}
      },
      "cell_type": "code",
      "source": [
        "sales_nohighend = sales_noCC[sales_noCC['HousePrice'] < 350000] \n",
        "crime_model_nohighend = graphlab.linear_regression.create(sales_nohighend, target='HousePrice', features=['CrimeRate'],validation_set=None, verbose=False)"
      ],
      "execution_count": 0,
      "outputs": []
    },
    {
      "metadata": {
        "id": "PQuhklCFL6pK",
        "colab_type": "text"
      },
      "cell_type": "markdown",
      "source": [
        "### Do the coefficients change much?"
      ]
    },
    {
      "metadata": {
        "id": "t7gjoJwvL6pa",
        "colab_type": "code",
        "colab": {},
        "outputId": "aa5e82ab-020b-4e6a-cb21-3f201aed2a85"
      },
      "cell_type": "code",
      "source": [
        "crime_model_noCC.get('coefficients')"
      ],
      "execution_count": 0,
      "outputs": [
        {
          "output_type": "execute_result",
          "data": {
            "text/html": [
              "<div style=\"max-height:1000px;max-width:1500px;overflow:auto;\"><table frame=\"box\" rules=\"cols\">\n",
              "    <tr>\n",
              "        <th style=\"padding-left: 1em; padding-right: 1em; text-align: center\">name</th>\n",
              "        <th style=\"padding-left: 1em; padding-right: 1em; text-align: center\">index</th>\n",
              "        <th style=\"padding-left: 1em; padding-right: 1em; text-align: center\">value</th>\n",
              "    </tr>\n",
              "    <tr>\n",
              "        <td style=\"padding-left: 1em; padding-right: 1em; text-align: center; vertical-align: top\">(intercept)</td>\n",
              "        <td style=\"padding-left: 1em; padding-right: 1em; text-align: center; vertical-align: top\">None</td>\n",
              "        <td style=\"padding-left: 1em; padding-right: 1em; text-align: center; vertical-align: top\">225204.604303</td>\n",
              "    </tr>\n",
              "    <tr>\n",
              "        <td style=\"padding-left: 1em; padding-right: 1em; text-align: center; vertical-align: top\">CrimeRate</td>\n",
              "        <td style=\"padding-left: 1em; padding-right: 1em; text-align: center; vertical-align: top\">None</td>\n",
              "        <td style=\"padding-left: 1em; padding-right: 1em; text-align: center; vertical-align: top\">-2287.69717443</td>\n",
              "    </tr>\n",
              "</table>\n",
              "[2 rows x 3 columns]<br/>\n",
              "</div>"
            ],
            "text/plain": [
              "Columns:\n",
              "\tname\tstr\n",
              "\tindex\tstr\n",
              "\tvalue\tfloat\n",
              "\n",
              "Rows: 2\n",
              "\n",
              "Data:\n",
              "+-------------+-------+----------------+\n",
              "|     name    | index |     value      |\n",
              "+-------------+-------+----------------+\n",
              "| (intercept) |  None | 225204.604303  |\n",
              "|  CrimeRate  |  None | -2287.69717443 |\n",
              "+-------------+-------+----------------+\n",
              "[2 rows x 3 columns]"
            ]
          },
          "metadata": {
            "tags": []
          },
          "execution_count": 34
        }
      ]
    },
    {
      "metadata": {
        "id": "bolfZyeFL6p5",
        "colab_type": "code",
        "colab": {},
        "outputId": "57a7c957-a404-4c97-97fb-d0c555079504"
      },
      "cell_type": "code",
      "source": [
        "crime_model_nohighend.get('coefficients')"
      ],
      "execution_count": 0,
      "outputs": [
        {
          "output_type": "execute_result",
          "data": {
            "text/html": [
              "<div style=\"max-height:1000px;max-width:1500px;overflow:auto;\"><table frame=\"box\" rules=\"cols\">\n",
              "    <tr>\n",
              "        <th style=\"padding-left: 1em; padding-right: 1em; text-align: center\">name</th>\n",
              "        <th style=\"padding-left: 1em; padding-right: 1em; text-align: center\">index</th>\n",
              "        <th style=\"padding-left: 1em; padding-right: 1em; text-align: center\">value</th>\n",
              "    </tr>\n",
              "    <tr>\n",
              "        <td style=\"padding-left: 1em; padding-right: 1em; text-align: center; vertical-align: top\">(intercept)</td>\n",
              "        <td style=\"padding-left: 1em; padding-right: 1em; text-align: center; vertical-align: top\">None</td>\n",
              "        <td style=\"padding-left: 1em; padding-right: 1em; text-align: center; vertical-align: top\">199073.589615</td>\n",
              "    </tr>\n",
              "    <tr>\n",
              "        <td style=\"padding-left: 1em; padding-right: 1em; text-align: center; vertical-align: top\">CrimeRate</td>\n",
              "        <td style=\"padding-left: 1em; padding-right: 1em; text-align: center; vertical-align: top\">None</td>\n",
              "        <td style=\"padding-left: 1em; padding-right: 1em; text-align: center; vertical-align: top\">-1837.71280989</td>\n",
              "    </tr>\n",
              "</table>\n",
              "[2 rows x 3 columns]<br/>\n",
              "</div>"
            ],
            "text/plain": [
              "Columns:\n",
              "\tname\tstr\n",
              "\tindex\tstr\n",
              "\tvalue\tfloat\n",
              "\n",
              "Rows: 2\n",
              "\n",
              "Data:\n",
              "+-------------+-------+----------------+\n",
              "|     name    | index |     value      |\n",
              "+-------------+-------+----------------+\n",
              "| (intercept) |  None | 199073.589615  |\n",
              "|  CrimeRate  |  None | -1837.71280989 |\n",
              "+-------------+-------+----------------+\n",
              "[2 rows x 3 columns]"
            ]
          },
          "metadata": {
            "tags": []
          },
          "execution_count": 35
        }
      ]
    },
    {
      "metadata": {
        "id": "sfaTunb9L6qZ",
        "colab_type": "text"
      },
      "cell_type": "markdown",
      "source": [
        "Above: We see that removing the outlying high-value neighborhoods has *some* effect on the fit, but not nearly as much as our high-leverage Center City datapoint."
      ]
    },
    {
      "metadata": {
        "id": "N4n-Us24L6qh",
        "colab_type": "code",
        "colab": {}
      },
      "cell_type": "code",
      "source": [
        ""
      ],
      "execution_count": 0,
      "outputs": []
    }
  ]
}